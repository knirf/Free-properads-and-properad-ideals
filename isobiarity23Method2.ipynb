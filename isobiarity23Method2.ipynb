{
 "cells": [
  {
   "cell_type": "markdown",
   "metadata": {},
   "source": [
    "# Second method\n",
    "\n",
    "In this file we show the second method to prove that $\\varphi_a$ is an isomorphism if and only if $\\mathcal{P}_a$ is confluent using representation matrices. \n",
    "\n",
    "First we just import the modules. See Tutorial.ipynb for more details."
   ]
  },
  {
   "cell_type": "code",
   "execution_count": 1,
   "metadata": {},
   "outputs": [
    {
     "name": "stdout",
     "output_type": "stream",
     "text": [
      "Generating first objects, properads and ideals, could take a few seconds\n",
      "If you don't have any file with these properads, it could take some minutes\n",
      "You can read readme.txt for more informations.\n",
      "Classic properad without permutations : Prop_classic\n",
      "Weights generated from file : [0, 1, 2, 3, 4]\n",
      "Classic properad with permutations : Prop_classic_perm\n",
      "Weights generated from file : [0, 1, 2, 3, 4]\n",
      "Classic ideal with Polynomial relations : Ideal_classic_polynomials\n",
      "Steps generated from file : [0, 1]\n",
      "Orthogonal ideal with polynomial relations : Ideal_orth_polynomials\n",
      "Steps generated from file : [0, 1]\n"
     ]
    }
   ],
   "source": [
    "import time\n",
    "import pickle\n",
    "import os\n",
    "import numpy as np\n",
    "\n",
    "%runfile Modules/Part_Tab_Clifton.sage\n",
    "%runfile Modules/Clift_Mat.sage\n",
    "%runfile Modules/Groebner.sage\n",
    "%runfile Modules/Manip_Matrices.sage\n",
    "%runfile Modules/Permutations.sage\n",
    "%runfile Modules/Remove_Duplicates.sage\n",
    "%runfile Modules/Vertex.sage\n",
    "%runfile Modules/Labelled_Vertex.sage\n",
    "%runfile Modules/Edge.sage\n",
    "%runfile Modules/Graph.sage\n",
    "%runfile Modules/Graph_Perm.sage\n",
    "%runfile Modules/Free_Properad.sage\n",
    "%runfile Modules/Ideal_Properad.sage\n",
    "%runfile Modules/Coproperad_Dual.sage\n",
    "%runfile Modules/First_Definitions.sage"
   ]
  },
  {
   "cell_type": "markdown",
   "metadata": {},
   "source": [
    "Here we get only biarity $(2, 3)$ and weight $3$ of the ideal stored in a dictionnary which keys are the partition couples of $(2, 3)$. Then we get the representation (Clifton) matrices, simplify them and save the result in csv files.\n",
    "\n",
    "What we print here is, first, the coefficient $k_{\\lambda, \\mu}$ and the dimensions of $B^a_{\\lambda, \\mu}$, then we print the number of rows and columns we managed to remove and the possible ranks of the new matrices."
   ]
  },
  {
   "cell_type": "code",
   "execution_count": 2,
   "metadata": {},
   "outputs": [
    {
     "name": "stdout",
     "output_type": "stream",
     "text": [
      "Couple : ([2], [3])\n",
      "Minimal rank : 12, dimensions of remaining matrix : [1, 10]\n",
      "Couple : ([2], [2, 1])\n",
      "Minimal rank : 24, dimensions of remaining matrix : [2, 20]\n",
      "Couple : ([2], [1, 1, 1])\n",
      "Minimal rank : 12, dimensions of remaining matrix : [1, 10]\n",
      "Couple : ([1, 1], [3])\n",
      "Minimal rank : 12, dimensions of remaining matrix : [1, 10]\n",
      "Couple : ([1, 1], [2, 1])\n",
      "Minimal rank : 24, dimensions of remaining matrix : [2, 20]\n",
      "Couple : ([1, 1], [1, 1, 1])\n",
      "Minimal rank : 12, dimensions of remaining matrix : [1, 10]\n",
      "Couple : ([2], [3])\n",
      "Removed 0 rows and 4 columns\n",
      "Rank is in [0, 1]\n",
      "Couple : ([2], [2, 1])\n",
      "Removed 0 rows and 10 columns\n",
      "Rank is in [0, 2]\n",
      "Couple : ([2], [1, 1, 1])\n",
      "Removed 0 rows and 6 columns\n",
      "Rank is in [0, 1]\n",
      "Couple : ([1, 1], [3])\n",
      "Removed 0 rows and 4 columns\n",
      "Rank is in [0, 1]\n",
      "Couple : ([1, 1], [2, 1])\n",
      "Removed 0 rows and 10 columns\n",
      "Rank is in [0, 2]\n",
      "Couple : ([1, 1], [1, 1, 1])\n",
      "Removed 0 rows and 6 columns\n",
      "Rank is in [0, 1]\n"
     ]
    }
   ],
   "source": [
    "arity23 = Ideal_classic_polynomials.only_one_per_orbite(1)[(2, 3)]\n",
    "dic_matrix23 = create_Cliftons(arity23)\n",
    "dic_matrix_simple23 = Clifton_matrix_simple(dic_matrix23)\n",
    "save_matrices_csv(dic_matrix_simple23, \"arity23/\", \"\")"
   ]
  },
  {
   "cell_type": "markdown",
   "metadata": {},
   "source": [
    "We can print the simplified matrices we want now."
   ]
  },
  {
   "cell_type": "code",
   "execution_count": 3,
   "metadata": {},
   "outputs": [
    {
     "name": "stdout",
     "output_type": "stream",
     "text": [
      "Couple : ([2], [3])\n",
      "Row 0 : ['col 0 : -2*a2*a4', 'col 1 : -a2^2 + a2', 'col 2 : a3^2 - a3', 'col 3 : 2*a1*a3', 'col 4 : a1^2 - a1', 'col 5 : -a4^2 + a4']\n",
      "Couple : ([2], [2, 1])\n",
      "Row 0 : ['col 0 : 2*a2*a4', 'col 1 : a2^2 - a2', 'col 2 : a2^2 - a2', 'col 3 : a3^2 - a3', 'col 5 : a1*a3', 'col 6 : a1^2 - a1', 'col 8 : a4^2 - a4', 'col 9 : a4^2 - a4']\n",
      "Row 1 : ['col 0 : -a2*a4', 'col 1 : -a2^2 + a2', 'col 4 : a3^2 - a3', 'col 5 : a1*a3', 'col 7 : a1^2 - a1', 'col 9 : -a4^2 + a4']\n",
      "Couple : ([2], [1, 1, 1])\n",
      "Row 0 : ['col 0 : -a2^2 + a2', 'col 1 : a3^2 - a3', 'col 2 : a1^2 - a1', 'col 3 : a4^2 - a4']\n",
      "Couple : ([1, 1], [3])\n",
      "Row 0 : ['col 0 : 2*a2*a4', 'col 1 : -a2^2 + a2', 'col 2 : a3^2 - a3', 'col 3 : -2*a1*a3', 'col 4 : -a1^2 + a1', 'col 5 : a4^2 - a4']\n",
      "Couple : ([1, 1], [2, 1])\n",
      "Row 0 : ['col 0 : -2*a2*a4', 'col 1 : a2^2 - a2', 'col 2 : a2^2 - a2', 'col 3 : a3^2 - a3', 'col 5 : -a1*a3', 'col 6 : -a1^2 + a1', 'col 8 : -a4^2 + a4', 'col 9 : -a4^2 + a4']\n",
      "Row 1 : ['col 0 : a2*a4', 'col 1 : -a2^2 + a2', 'col 4 : a3^2 - a3', 'col 5 : -a1*a3', 'col 7 : -a1^2 + a1', 'col 9 : a4^2 - a4']\n",
      "Couple : ([1, 1], [1, 1, 1])\n",
      "Row 0 : ['col 0 : -a2^2 + a2', 'col 1 : a3^2 - a3', 'col 2 : -a1^2 + a1', 'col 3 : -a4^2 + a4']\n"
     ]
    }
   ],
   "source": [
    "for couple in dic_matrix_simple23:\n",
    "    print(\"Couple : \" + str(couple))\n",
    "    print_rows(dic_matrix_simple23[couple][1])"
   ]
  },
  {
   "cell_type": "markdown",
   "metadata": {},
   "source": [
    "Thus we can compute the ranks of these matrices depending on $a$."
   ]
  }
 ],
 "metadata": {
  "kernelspec": {
   "display_name": "SageMath 9.3",
   "language": "sage",
   "name": "sagemath"
  },
  "language_info": {
   "codemirror_mode": {
    "name": "ipython",
    "version": 3
   },
   "file_extension": ".py",
   "mimetype": "text/x-python",
   "name": "python",
   "nbconvert_exporter": "python",
   "pygments_lexer": "ipython3",
   "version": "3.7.10"
  }
 },
 "nbformat": 4,
 "nbformat_minor": 4
}
